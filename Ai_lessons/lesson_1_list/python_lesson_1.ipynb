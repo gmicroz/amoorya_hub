{
 "cells": [
  {
   "cell_type": "code",
   "execution_count": 4,
   "id": "c313fe28-6210-46f1-a449-8e66b68d3710",
   "metadata": {},
   "outputs": [
    {
     "data": {
      "text/plain": [
       "[11, 12, 16, 17, 20, 25, 24, 23, 20, 15, 10]"
      ]
     },
     "execution_count": 4,
     "metadata": {},
     "output_type": "execute_result"
    }
   ],
   "source": [
    "# تدريب اعلى استخدام المكدس \n",
    "# LIST\n",
    "\n",
    "\n",
    "nums = [11,12,16,17,20,25,24,23,20,15]\n",
    "nums.append(10)  # اضافة عنصر\n",
    "nums"
   ]
  },
  {
   "cell_type": "code",
   "execution_count": 6,
   "id": "824456a6-2b44-4a86-b8c7-1a2859751b53",
   "metadata": {},
   "outputs": [
    {
     "data": {
      "text/plain": [
       "[11, 12, 14, 16, 14, 17, 20, 25, 24, 23, 20, 15, 10]"
      ]
     },
     "execution_count": 6,
     "metadata": {},
     "output_type": "execute_result"
    }
   ],
   "source": [
    "nums.insert(2, 14)  # ادراج عنصر بمنتصف القائمة\n",
    "nums"
   ]
  },
  {
   "cell_type": "code",
   "execution_count": 9,
   "id": "7d1a433a-84b2-41a6-94cc-e1436421e4c4",
   "metadata": {},
   "outputs": [
    {
     "data": {
      "text/plain": [
       "[11, 12, 14, 16, 14, 17, 20, 25, 24, 23]"
      ]
     },
     "execution_count": 9,
     "metadata": {},
     "output_type": "execute_result"
    }
   ],
   "source": [
    "nums.pop()   # حذف عنصر\n",
    "nums"
   ]
  },
  {
   "cell_type": "code",
   "execution_count": null,
   "id": "ae6f7e0e-7f08-4cee-8f5a-6bdc043172d3",
   "metadata": {},
   "outputs": [],
   "source": []
  },
  {
   "cell_type": "code",
   "execution_count": null,
   "id": "6afbf6f7-f230-4e78-8ffb-0b1b98a9e79c",
   "metadata": {},
   "outputs": [],
   "source": []
  }
 ],
 "metadata": {
  "kernelspec": {
   "display_name": "Python 3 (ipykernel)",
   "language": "python",
   "name": "python3"
  },
  "language_info": {
   "codemirror_mode": {
    "name": "ipython",
    "version": 3
   },
   "file_extension": ".py",
   "mimetype": "text/x-python",
   "name": "python",
   "nbconvert_exporter": "python",
   "pygments_lexer": "ipython3",
   "version": "3.11.4"
  }
 },
 "nbformat": 4,
 "nbformat_minor": 5
}
