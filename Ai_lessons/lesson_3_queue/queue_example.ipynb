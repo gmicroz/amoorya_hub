{
 "cells": [
  {
   "cell_type": "code",
   "execution_count": 10,
   "id": "b3151070-3fcb-4b85-8183-a7dbc777b0de",
   "metadata": {},
   "outputs": [
    {
     "name": "stdout",
     "output_type": "stream",
     "text": [
      "['ahmed', 'salem', 'khalid', 'faisal', 'mohammed']\n"
     ]
    }
   ],
   "source": [
    "\n",
    "from queue import Queue\n",
    "\n",
    "taboor = Queue()\n",
    "\n",
    "taboor.put(\"ahmed\")\n",
    "taboor.put(\"salem\")\n",
    "taboor.put(\"khalid\")\n",
    "taboor.put(\"faisal\")\n",
    "taboor.put(\"mohammed\")\n",
    "\n",
    "taboor_names = list(taboor.queue)\n",
    "# print(taboor_names)  # لطباعة لستة بجميع اسماء عناصر الطابور\n",
    "\n",
    "# لطباعة الأسماء منفصلة في حلفة تكراريةو FOR\n",
    "for name in taboor_names:\n",
    "    print(name)\n"
   ]
  },
  {
   "cell_type": "code",
   "execution_count": null,
   "id": "79081482-106a-4d7b-89f2-f55df623bdb4",
   "metadata": {},
   "outputs": [],
   "source": []
  }
 ],
 "metadata": {
  "kernelspec": {
   "display_name": "Python 3 (ipykernel)",
   "language": "python",
   "name": "python3"
  },
  "language_info": {
   "codemirror_mode": {
    "name": "ipython",
    "version": 3
   },
   "file_extension": ".py",
   "mimetype": "text/x-python",
   "name": "python",
   "nbconvert_exporter": "python",
   "pygments_lexer": "ipython3",
   "version": "3.10.1"
  }
 },
 "nbformat": 4,
 "nbformat_minor": 5
}
