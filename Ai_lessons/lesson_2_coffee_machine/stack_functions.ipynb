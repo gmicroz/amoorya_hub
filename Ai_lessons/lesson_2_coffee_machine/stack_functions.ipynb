{
 "cells": [
  {
   "cell_type": "code",
   "execution_count": null,
   "id": "85f70b0d-777c-47e7-b708-406a7a964450",
   "metadata": {
    "scrolled": true
   },
   "outputs": [],
   "source": [
    "# انشاء برنامج ادارة المكدس"
   ]
  },
  {
   "cell_type": "code",
   "execution_count": null,
   "id": "13cd9aa9-9bd4-46bd-80c8-1d954e4e860f",
   "metadata": {},
   "outputs": [],
   "source": [
    "items = []\n",
    "\n",
    "while True:\n",
    "    print(\"====================\")\n",
    "    print(\"قائمة العمليات\")\n",
    "    print(\"1- push\")\n",
    "    print(\"2- pop\")\n",
    "    print(\"3- exit\")\n",
    "    print(\"====================\")\n",
    "\n",
    "    operation = input(\"رجاء قم باختيار العملية\")\n",
    "\n",
    "    if operation == \"1\":\n",
    "        data = input(\"ادخل قيمة\")\n",
    "        items.append(int(data))\n",
    "        print(items)\n",
    "    elif operation == \"2\":\n",
    "        ...\n",
    "    elif operation == \"3\":\n",
    "        ...\n"
   ]
  },
  {
   "cell_type": "code",
   "execution_count": null,
   "id": "8e7022c7-38c3-4da6-9792-f8078cb73885",
   "metadata": {},
   "outputs": [],
   "source": []
  }
 ],
 "metadata": {
  "kernelspec": {
   "display_name": "Python 3 (ipykernel)",
   "language": "python",
   "name": "python3"
  },
  "language_info": {
   "codemirror_mode": {
    "name": "ipython",
    "version": 3
   },
   "file_extension": ".py",
   "mimetype": "text/x-python",
   "name": "python",
   "nbconvert_exporter": "python",
   "pygments_lexer": "ipython3",
   "version": "3.10.1"
  }
 },
 "nbformat": 4,
 "nbformat_minor": 5
}
