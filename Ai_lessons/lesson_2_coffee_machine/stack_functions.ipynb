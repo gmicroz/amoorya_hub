{
 "cells": [
  {
   "cell_type": "code",
   "execution_count": null,
   "id": "85f70b0d-777c-47e7-b708-406a7a964450",
   "metadata": {
    "scrolled": true
   },
   "outputs": [],
   "source": [
    "# انشاء برنامج ادارة المكدس"
   ]
  },
  {
   "cell_type": "code",
   "execution_count": null,
   "id": "949601de-a563-4d7e-857f-7edc95ee12f1",
   "metadata": {},
   "outputs": [],
   "source": [
    "Test"
   ]
  }
 ],
 "metadata": {
  "kernelspec": {
   "display_name": "Python 3 (ipykernel)",
   "language": "python",
   "name": "python3"
  },
  "language_info": {
   "codemirror_mode": {
    "name": "ipython",
    "version": 3
   },
   "file_extension": ".py",
   "mimetype": "text/x-python",
   "name": "python",
   "nbconvert_exporter": "python",
   "pygments_lexer": "ipython3",
   "version": "3.11.4"
  }
 },
 "nbformat": 4,
 "nbformat_minor": 5
}
