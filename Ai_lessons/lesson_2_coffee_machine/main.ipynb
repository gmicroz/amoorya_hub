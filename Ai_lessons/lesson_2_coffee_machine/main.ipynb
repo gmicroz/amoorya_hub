{
 "cells": [
  {
   "cell_type": "code",
   "execution_count": 10,
   "id": "e96a8443-70b9-43ef-b3ac-0b55d738f126",
   "metadata": {
    "editable": true,
    "slideshow": {
     "slide_type": ""
    },
    "tags": []
   },
   "outputs": [
    {
     "name": "stdout",
     "output_type": "stream",
     "text": [
      "====================\n",
      "قائمة المشروبات\n",
      "1- كابتشينو\n",
      "2- القهوة السعودية\n",
      "3- شاي عدني\n",
      "4- ماء\n",
      "====================\n"
     ]
    },
    {
     "name": "stdin",
     "output_type": "stream",
     "text": [
      "رجاء قم باختيار رقم الطلب 1\n"
     ]
    },
    {
     "name": "stdout",
     "output_type": "stream",
     "text": [
      "جاري تحضير الكابتشينو ...\n",
      "تفضل طلبك جاهز\n",
      "\n",
      "\n",
      "\n",
      "\n",
      "\n",
      "====================\n",
      "قائمة المشروبات\n",
      "1- كابتشينو\n",
      "2- القهوة السعودية\n",
      "3- شاي عدني\n",
      "4- ماء\n",
      "====================\n"
     ]
    },
    {
     "name": "stdin",
     "output_type": "stream",
     "text": [
      "رجاء قم باختيار رقم الطلب 3\n"
     ]
    },
    {
     "name": "stdout",
     "output_type": "stream",
     "text": [
      "شاهي عدني...\n",
      "تفضل طلبك جاهز\n",
      "\n",
      "\n",
      "\n",
      "\n",
      "\n",
      "====================\n",
      "قائمة المشروبات\n",
      "1- كابتشينو\n",
      "2- القهوة السعودية\n",
      "3- شاي عدني\n",
      "4- ماء\n",
      "====================\n"
     ]
    },
    {
     "name": "stdin",
     "output_type": "stream",
     "text": [
      "رجاء قم باختيار رقم الطلب q\n"
     ]
    }
   ],
   "source": [
    "\n",
    "import time\n",
    "import os\n",
    "\n",
    "def make_cuppucino():\n",
    "    print(\"جاري تحضير الكابتشينو ...\")\n",
    "    time.sleep(4)\n",
    "    print(\"تفضل طلبك جاهز\")\n",
    "    print(\"\\n\\n\\n\\n\")\n",
    "\n",
    "def make_saudi_coffee():\n",
    "    print(\"جاري تحضير القهوة السعودية ...\")\n",
    "    time.sleep(4)\n",
    "    print(\"تفضل طلبك جاهز\")\n",
    "    print(\"\\n\\n\\n\\n\")\n",
    "\n",
    "def make_adani():\n",
    "    print( \"شاهي عدني...\")\n",
    "    time.sleep(4)\n",
    "    print(\"تفضل طلبك جاهز\")\n",
    "    print(\"\\n\\n\\n\\n\")\n",
    "\n",
    "def make_water():\n",
    "    time.sleep(2)\n",
    "    print(\"تفضل طلبك جاهز\")\n",
    "    print(\"\\n\\n\\n\\n\")\n",
    "\n",
    "\n",
    "while True:\n",
    "    print(\"====================\")\n",
    "    print(\"قائمة المشروبات\")\n",
    "    print(\"1- كابتشينو\")\n",
    "    print(\"2- القهوة السعودية\")\n",
    "    print(\"3- شاي عدني\")\n",
    "    print(\"4- ماء\")\n",
    "    print(\"====================\")\n",
    "\n",
    "    order = input(\"رجاء قم باختيار رقم الطلب\")\n",
    "\n",
    "    if order == \"1\":\n",
    "        make_cuppucino()\n",
    "        \n",
    "    elif order == \"2\":\n",
    "        make_saudi_coffee()\n",
    "        \n",
    "    elif order ==  \"3\":\n",
    "         make_adani()\n",
    "        \n",
    "    elif order == \"4\":\n",
    "        make_water()\n",
    "        \n",
    "    elif order == \"q\":\n",
    "        break\n",
    "\n",
    "    else:\n",
    "        print(\"خطأ في الادخال .. حاول مرة اخرى\")\n"
   ]
  },
  {
   "cell_type": "code",
   "execution_count": null,
   "id": "d9e26796-08e4-4f4f-a55f-2a9406c04c7a",
   "metadata": {},
   "outputs": [],
   "source": []
  },
  {
   "cell_type": "code",
   "execution_count": null,
   "id": "5c042078-c206-4da7-8f47-633e8e087870",
   "metadata": {},
   "outputs": [],
   "source": []
  }
 ],
 "metadata": {
  "kernelspec": {
   "display_name": "Python 3 (ipykernel)",
   "language": "python",
   "name": "python3"
  },
  "language_info": {
   "codemirror_mode": {
    "name": "ipython",
    "version": 3
   },
   "file_extension": ".py",
   "mimetype": "text/x-python",
   "name": "python",
   "nbconvert_exporter": "python",
   "pygments_lexer": "ipython3",
   "version": "3.11.4"
  }
 },
 "nbformat": 4,
 "nbformat_minor": 5
}
