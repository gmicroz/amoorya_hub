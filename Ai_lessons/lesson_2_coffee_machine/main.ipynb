{
 "cells": [
  {
   "cell_type": "code",
   "execution_count": null,
   "id": "e96a8443-70b9-43ef-b3ac-0b55d738f126",
   "metadata": {
    "editable": true,
    "slideshow": {
     "slide_type": ""
    },
    "tags": []
   },
   "outputs": [],
   "source": [
    "import time\n",
    "import os\n",
    "\n",
    "def make_cuppucino(cups):\n",
    "    for i in range(cups):\n",
    "        print(\"جاري تحضير الكابتشينو ...\")\n",
    "        time.sleep(4)\n",
    "        print(\"تفضل طلبك جاهز\")\n",
    "        print(\"\\n\\n\\n\\n\")\n",
    "\n",
    "def make_saudi_coffee():\n",
    "    print(\"جاري تحضير القهوة السعودية ...\")\n",
    "    time.sleep(4)\n",
    "    print(\"تفضل طلبك جاهز\")\n",
    "    print(\"\\n\\n\\n\\n\")\n",
    "\n",
    "def make_adani():\n",
    "    print( \"شاهي عدني...\")\n",
    "    time.sleep(4)\n",
    "    print(\"تفضل طلبك جاهز\")\n",
    "    print(\"\\n\\n\\n\\n\")\n",
    "\n",
    "def make_water():\n",
    "    time.sleep(2)\n",
    "    print(\"تفضل طلبك جاهز\")\n",
    "    print(\"\\n\\n\\n\\n\")\n",
    "\n",
    "\n",
    "while True:\n",
    "    print(\"====================\")\n",
    "    print(\"قائمة المشروبات\")\n",
    "    print(\"1- كابتشينو\")\n",
    "    print(\"2- القهوة السعودية\")\n",
    "    print(\"3- شاي عدني\")\n",
    "    print(\"4- ماء\")\n",
    "    print(\"====================\")\n",
    "\n",
    "    order = input(\"رجاء قم باختيار رقم الطلب\")\n",
    "\n",
    "    if order == \"1\":\n",
    "        cups = int(input(\"كم عدد الاكواب المطلوبة\")) \n",
    "        make_cuppucino(cups)\n",
    "        \n",
    "    elif order == \"2\":\n",
    "        make_saudi_coffee()\n",
    "        \n",
    "    elif order ==  \"3\":\n",
    "         make_adani()\n",
    "        \n",
    "    elif order == \"4\":\n",
    "        make_water()\n",
    "        \n",
    "    elif order == \"q\":\n",
    "        break\n",
    "\n",
    "    else:\n",
    "        print(\"خطأ في الادخال .. حاول مرة اخرى\")"
   ]
  }
 ],
 "metadata": {
  "kernelspec": {
   "display_name": "Python 3 (ipykernel)",
   "language": "python",
   "name": "python3"
  },
  "language_info": {
   "codemirror_mode": {
    "name": "ipython",
    "version": 3
   },
   "file_extension": ".py",
   "mimetype": "text/x-python",
   "name": "python",
   "nbconvert_exporter": "python",
   "pygments_lexer": "ipython3",
   "version": "3.10.1"
  }
 },
 "nbformat": 4,
 "nbformat_minor": 5
}
